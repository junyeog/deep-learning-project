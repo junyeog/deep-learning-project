{
  "nbformat": 4,
  "nbformat_minor": 0,
  "metadata": {
    "colab": {
      "provenance": [],
      "authorship_tag": "ABX9TyPBtVuZutXclA5BIZ4NY9ay",
      "include_colab_link": true
    },
    "kernelspec": {
      "name": "python3",
      "display_name": "Python 3"
    },
    "language_info": {
      "name": "python"
    }
  },
  "cells": [
    {
      "cell_type": "markdown",
      "metadata": {
        "id": "view-in-github",
        "colab_type": "text"
      },
      "source": [
        "<a href=\"https://colab.research.google.com/github/junyeog/deep-learning-project/blob/main/%EB%8D%B0%EC%9D%B4%ED%84%B0_%EB%B6%88%EB%9F%AC%EC%98%A4%EA%B8%B0.ipynb\" target=\"_parent\"><img src=\"https://colab.research.google.com/assets/colab-badge.svg\" alt=\"Open In Colab\"/></a>"
      ]
    },
    {
      "cell_type": "code",
      "source": [
        "import requests\n",
        "import pandas as pd\n",
        "key='ttA20Y0XPHJ5tPHXQgq4uYxRdjqZH7OPspEw11dQMpCstgU9OPo3E8J/3minVVjNWmfJ0pNp8ybFvB+HlN6A2A=='\n",
        "year=2020\n",
        "url = 'http://apis.data.go.kr/1192000/select0180List/getselect0180List'\n",
        "params ={'serviceKey' : key, 'numOfRows' : '10', 'pageNo' : '1', 'type' : 'xml', 'baseDt' :2008 }\n",
        "\n",
        "response = requests.get(url, params=params)\n",
        "\n",
        "\n"
      ],
      "metadata": {
        "id": "2H4ywd0gWgKJ"
      },
      "execution_count": 57,
      "outputs": []
    },
    {
      "cell_type": "code",
      "source": [
        "df=pd.read_xml(response.content, xpath=\".//item\")"
      ],
      "metadata": {
        "id": "imT5b-UVeoAV"
      },
      "execution_count": 58,
      "outputs": []
    },
    {
      "cell_type": "code",
      "source": [
        "\n",
        "for i in range(12):\n",
        "  params ={'serviceKey' : key, 'numOfRows' : '10', 'pageNo' : '1', 'type' : 'xml', 'baseDt' :2009+i }\n",
        "  response = requests.get(url, params=params)\n",
        "  df_append=pd.read_xml(response.content, xpath=\".//item\")\n",
        "  df=pd.concat([df,df_append],ignore_index=True)\n",
        "\n"
      ],
      "metadata": {
        "id": "cojhRr4Jcu8p"
      },
      "execution_count": 59,
      "outputs": []
    },
    {
      "cell_type": "code",
      "source": [
        "print(df)"
      ],
      "metadata": {
        "colab": {
          "base_uri": "https://localhost:8080/"
        },
        "id": "fReB8lGtkXeG",
        "outputId": "4c79b82b-797c-400a-830f-2caa4b7723eb"
      },
      "execution_count": 60,
      "outputs": [
        {
          "output_type": "stream",
          "name": "stdout",
          "text": [
            "    resYear  totQty1  liveQty1  freshQty1  freezeQty1     totAmt1    liveAmt1  \\\n",
            "0      2008  3361255   1637351     985982      737922  6345058101  3060228827   \n",
            "1      2009  3182342   1568700     944123      669519  6924248502  3495309123   \n",
            "2      2010  3110634   1603332     868533      638769  7425685572  3576243451   \n",
            "3      2011  3255929   1711505     972406      572018  8072860450  3599001929   \n",
            "4      2012  3183424   1704631     846768      632024  7689050760  3521328980   \n",
            "5      2013  3135250   1702355     829050      603844  7226886951  3397297417   \n",
            "6      2014  3304228   1746837     832588      724803  7351991851  3725406030   \n",
            "7      2015  3337383   1862276     827847      647260  7257464629  3908593039   \n",
            "8      2016  3269432   2057971     716271      495190  7476747061  4047649769   \n",
            "9      2017  3724711   2507369     717069      500274  8566870876  4826980636   \n",
            "10     2018  3770057   2494077     759514      516466  8608418348  4976777909   \n",
            "11     2019  3860969   2642375     669973      548621  8366328166  4898842228   \n",
            "12     2020  3712873   2527425     707381      478067  8832970810  4938193806   \n",
            "\n",
            "     freshAmt1  freezeAmt1  totQty2  ...  freshQty4  freezeQty4    totAmt4  \\\n",
            "0   1792061225  1492768049  1284890  ...        975         139  275284952   \n",
            "1   2082989609  1345949770  1226966  ...       1418         359  273750067   \n",
            "2   2330310975  1519131146  1132536  ...       1119         388  333834081   \n",
            "3   2746932571  1726925950  1235489  ...       1050         456  377466022   \n",
            "4   2298298001  1869423779  1091034  ...       1028         319  323339507   \n",
            "5   2221826754  1607762780  1044697  ...        626         210  345437258   \n",
            "6   2131114211  1495471610  1058598  ...        997         139  372110685   \n",
            "7   2077936258  1270935332  1058319  ...        956         157  407481551   \n",
            "8   2159743145  1269354147   907580  ...        733         281  417546823   \n",
            "9   2346225211  1393665029   926941  ...       1063         253  458497028   \n",
            "10  2220168845  1411471594  1011536  ...        996          77  460982330   \n",
            "11  2111436373  1356049565   911852  ...        548          69  484784996   \n",
            "12  2506180270  1388596735   933880  ...       1057         105  444831888   \n",
            "\n",
            "     liveAmt4  freshAmt4  freezeAmt4  totQty5  freezeQty5     totAmt5  \\\n",
            "0   271080916    3803781      400255   666182      666182  1327394939   \n",
            "1   265086494    6721726     1941847   611950      611950  1163750724   \n",
            "2   326324643    5767902     1741536   592116      592116  1364524490   \n",
            "3   368968396    6340400     2157226   510624      510624  1467044368   \n",
            "4   316441076    5562561     1335870   575308      575308  1655406229   \n",
            "5   339790362    4481464     1165433   549928      549928  1408034170   \n",
            "6   365540311    6048396      521977   669140      669140  1275222255   \n",
            "7   401326697    5375516      779338   578137      578137  1023738173   \n",
            "8   413532447    3381077      633299   454053      454053  1077762729   \n",
            "9   452994304    4840193      662531   445726      445726  1134303285   \n",
            "10  457767088    2891618      323625   473589      473589  1130696582   \n",
            "11  479395531    4970817      418648   503795      503795  1119095801   \n",
            "12  440843235    3517604      471048   436617      436617  1121154992   \n",
            "\n",
            "    freezeAmt5  \n",
            "0   1327394939  \n",
            "1   1163750724  \n",
            "2   1364524490  \n",
            "3   1467044368  \n",
            "4   1655406229  \n",
            "5   1408034170  \n",
            "6   1275222255  \n",
            "7   1023738173  \n",
            "8   1077762729  \n",
            "9   1134303285  \n",
            "10  1130696582  \n",
            "11  1119095801  \n",
            "12  1121154992  \n",
            "\n",
            "[13 rows x 37 columns]\n"
          ]
        }
      ]
    },
    {
      "cell_type": "code",
      "source": [
        "## resYear  totQty1  liveQty1  freshQty1  freezeQty1     totAmt1    liveAmt1\n",
        "## 년도"
      ],
      "metadata": {
        "id": "7Zi0RZoClaxl"
      },
      "execution_count": null,
      "outputs": []
    }
  ]
}